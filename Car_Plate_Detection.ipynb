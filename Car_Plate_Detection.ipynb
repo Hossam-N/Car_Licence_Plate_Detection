{
 "cells": [
  {
   "cell_type": "code",
   "execution_count": null,
   "metadata": {},
   "outputs": [],
   "source": [
    "from commonfunctions import *\n",
    "import cv2\n",
    "import imutils\n"
   ]
  },
  {
   "cell_type": "code",
   "execution_count": null,
   "metadata": {},
   "outputs": [],
   "source": [
    "def preprocess_image(img):\n",
    "    gray_img = rgb2gray(img)\n",
    "    gray_img = (gray_img*255).astype(np.uint8)    \n",
    "    filtered_img = cv2.bilateralFilter(gray_img, 5, 20, 100, borderType=cv2.BORDER_CONSTANT)\n",
    "    return filtered_img\n",
    "\n",
    "\n",
    "\n",
    "img = io.imread('imgs/License1.jpg')\n",
    "show_images([img,rgb2gray(img),preprocess_image(img)],titles=['RGB Image','Gray image','Filtered Image'])"
   ]
  },
  {
   "cell_type": "code",
   "execution_count": null,
   "metadata": {},
   "outputs": [],
   "source": [
    "import cv2\n",
    "\n",
    "img = io.imread('imgs/0006.jpg')\n",
    "\n",
    "# Convert the image to grayscale\n",
    "gray = cv2.cvtColor(img, cv2.COLOR_BGR2GRAY)\n",
    "gray_img = (gray).astype(np.uint8)\n",
    "filtered_img = cv2.bilateralFilter(gray_img, 5, 20, 100, borderType=cv2.BORDER_CONSTANT)\n",
    "\n",
    "\n",
    "\n",
    "# Perform thresholding or other preprocessing steps as needed to isolate the plate\n",
    "# For example, you can use adaptive thresholding\n",
    "# thresh = cv2.adaptiveThreshold(filtered_img, 255, cv2.ADAPTIVE_THRESH_MEAN_C, cv2.THRESH_BINARY, 11, 2)\n",
    "_, mask = cv2.threshold(filtered_img, 100, 255, cv2.THRESH_BINARY)\n",
    "\n",
    "contours, _ = cv2.findContours(mask, cv2.RETR_EXTERNAL, cv2.CHAIN_APPROX_SIMPLE)\n",
    "\n",
    "plate = None\n",
    "filtered_contours = []\n",
    "for contour in contours:\n",
    "    x, y, w, h = cv2.boundingRect(contour)\n",
    "    aspect_ratio = float(w) / h\n",
    "    area = cv2.contourArea(contour)\n",
    "    if (aspect_ratio > 2.5) and (aspect_ratio < 3.5):\n",
    "        filtered_contours.append(contour)\n",
    "\n",
    "if filtered_contours:\n",
    "    max_contour = max(filtered_contours, key=cv2.contourArea)\n",
    "    x, y, w, h = cv2.boundingRect(max_contour)\n",
    "    plate = img[y:y + h, x:x + w]\n",
    "\n",
    "\n",
    "\n",
    "\n",
    "show_images([img,gray,mask,plate],titles=['RGB Image','Gray image','Thresholded Image','plate'])\n"
   ]
  },
  {
   "cell_type": "code",
   "execution_count": null,
   "metadata": {},
   "outputs": [],
   "source": [
    "image = io.imread('imgs/0016.jpg')\n",
    "c_image = image.copy()\n",
    "img_gray = cv2.cvtColor(image, cv2.COLOR_BGR2GRAY)\n",
    "\n",
    "filtered_img = cv2.bilateralFilter(img_gray, 11, 20, 17)\n",
    "\n",
    "img_canny = cv2.Canny(filtered_img, 70, 200)\n",
    "\n",
    "# kernel = np.ones((3,3))\n",
    "# img_dil = cv2.dilate(img_canny, kernel, iterations=2) \n",
    "points = cv2.findContours(img_canny, cv2.RETR_EXTERNAL, cv2.CHAIN_APPROX_NONE)\n",
    "contours = imutils.grab_contours(points)\n",
    "contours = sorted(contours, key=cv2.contourArea, reverse=True)[:80] \n",
    "# cv2.drawContours(c_image, contours, -1, (0, 255, 0), 2)\n",
    "\n",
    "filtered_contours = []\n",
    "for contour in contours:\n",
    "   approx = cv2.approxPolyDP(contour, 60, True)\n",
    "   if len(approx) == 4:\n",
    "        x, y, w, h = cv2.boundingRect(contour)\n",
    "        aspect_ratio = float(w) / h\n",
    "        area = cv2.contourArea(contour)\n",
    "        if (aspect_ratio > 2.5) and (aspect_ratio < 3.5) and (area < 500):\n",
    "            filtered_contours.append(contour)\n",
    "\n",
    "if filtered_contours:\n",
    "    max_contour = max(filtered_contours, key=cv2.contourArea)\n",
    "    x, y, w, h = cv2.boundingRect(max_contour)\n",
    "    cv2.rectangle(c_image, (x, y), (x + w, y + h), (0, 255, 0), 2)            \n",
    "\n",
    "\n",
    "       \n",
    "\n",
    "show_images([image,img_canny, c_image],titles=['RGB Image','canny Image','c_image'])   \n"
   ]
  },
  {
   "cell_type": "code",
   "execution_count": null,
   "metadata": {},
   "outputs": [],
   "source": [
    "image = io.imread('imgs/0016.jpg')\n",
    "image = cv2.resize(image,(800,600))\n",
    "image_gray = cv2.cvtColor(image, cv2.COLOR_BGR2GRAY)    \n",
    "kernel_rect = cv2.getStructuringElement(cv2.MORPH_RECT, (13, 5))\n",
    "kernel_square = cv2.getStructuringElement(cv2.MORPH_RECT, (2, 2))\n",
    "\n",
    "bottom_hat = cv2.morphologyEx(image_gray, cv2.MORPH_BLACKHAT, kernel_rect)\n",
    "_, thresholded = cv2.threshold(bottom_hat, 0, 255, cv2.THRESH_BINARY + cv2.THRESH_OTSU)\n",
    "opened_image = cv2.morphologyEx(thresholded, cv2.MORPH_OPEN, kernel_square)\n",
    "\n",
    "# labeled_img = np.uint8(255 * labeled_image / np.max(labeled_image))\n",
    "print(num_labels)\n",
    "print(labeled_image)\n",
    "\n",
    "show_images([image, thresholded , opened_image ,labeled_image],titles=['RGB Image','Thresholded','Opened Image','labelled Image'])\n",
    "\n",
    "\n"
   ]
  },
  {
   "cell_type": "code",
   "execution_count": null,
   "metadata": {},
   "outputs": [],
   "source": []
  }
 ],
 "metadata": {
  "kernelspec": {
   "display_name": "Python 3",
   "language": "python",
   "name": "python3"
  },
  "language_info": {
   "codemirror_mode": {
    "name": "ipython",
    "version": 3
   },
   "file_extension": ".py",
   "mimetype": "text/x-python",
   "name": "python",
   "nbconvert_exporter": "python",
   "pygments_lexer": "ipython3",
   "version": "3.10.11"
  }
 },
 "nbformat": 4,
 "nbformat_minor": 2
}
